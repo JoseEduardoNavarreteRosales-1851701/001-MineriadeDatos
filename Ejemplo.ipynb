{
 "cells": [
  {
   "cell_type": "markdown",
   "metadata": {},
   "source": [
    "# Ejemplo de K-medias en kaggle.com
   ]
  },
  {
   "cell_type": "markdown",
   "metadata": {},
   "source": [
    "El ejemplo que se muestra a continuación se obtuvo del siguiente link:  \n",
    "[Ejemplo K-medias](https://www.kaggle.com/fabiendaniel/customer-segmentation)"
   ]
  },
  {
   "cell_type": "markdown",
   "metadata": {},
   "source": [
    "## Overview\n",
    "<a href=\"https://archive.ics.uci.edu/ml/datasets/online+retail\">Online retail is a transnational data set</a> which contains all the transactions occurring between 01/12/2010 and 09/12/2011 for a UK-based and registered non-store online retail. The company mainly sells unique all-occasion gifts. Many customers of the company are wholesalers.\n",
    "\n",
    "## Business Goal\n",
    "We aim to segement the Customers based on RFM so that the company can target its customers efficiently.\n",
    "\n",
    "#### The steps are broadly divided into:\n",
    "\n",
    "1. [Step 1: Reading and Understanding the Data](#1)\n",
    "1. [Step 2: Data Cleansing](#2)\n",
    "1. [Step 3: Data Preparation](#3)\n",
    "1. [Step 4: Model Building](#4)\n",
    "1. [Step 5: Final Analysis](#5)"
   ]
  },
  {
   "cell_type": "markdown",
   "metadata": {},
   "source": [
    "<a id=\"1\"></a> <br>\n",
    "## Step 1 : Reading and Understanding Data"
   ]
  },
  {
   "cell_type": "code",
   "execution_count": 1,
   "metadata": {},
   "outputs": [],
   "source": [
    "# import required libraries for dataframe and visualization\n",
    "\n",
    "import numpy as np\n",
    "import pandas as pd\n",
    "import matplotlib.pyplot as plt\n",
    "import seaborn as sns\n",
    "import datetime as dt\n",
    "\n",
    "# import required libraries for clustering\n",
    "import sklearn\n",
    "from sklearn.preprocessing import StandardScaler\n",
    "from sklearn.cluster import KMeans\n",
    "from sklearn.metrics import silhouette_score\n",
    "from scipy.cluster.hierarchy import linkage\n",
    "from scipy.cluster.hierarchy import dendrogram\n",
    "from scipy.cluster.hierarchy import cut_tree"
   ]
  },
  {
   "cell_type": "code",
   "execution_count": 2,
   "metadata": {},
   "outputs": [
    {
     "data": {
      "text/html": [
       "<div>\n",
       "<style scoped>\n",
       "    .dataframe tbody tr th:only-of-type {\n",
       "        vertical-align: middle;\n",
       "    }\n",
       "\n",
       "    .dataframe tbody tr th {\n",
       "        vertical-align: top;\n",
       "    }\n",
       "\n",
       "    .dataframe thead th {\n",
       "        text-align: right;\n",
       "    }\n",
       "</style>\n",
       "<table border=\"1\" class=\"dataframe\">\n",
       "  <thead>\n",
       "    <tr style=\"text-align: right;\">\n",
       "      <th></th>\n",
       "      <th>InvoiceNo</th>\n",
       "      <th>StockCode</th>\n",
       "      <th>Description</th>\n",
       "      <th>Quantity</th>\n",
       "      <th>InvoiceDate</th>\n",
       "      <th>UnitPrice</th>\n",
       "      <th>CustomerID</th>\n",
       "      <th>Country</th>\n",
       "    </tr>\n",
       "  </thead>\n",
       "  <tbody>\n",
       "    <tr>\n",
       "      <th>0</th>\n",
       "      <td>536365</td>\n",
       "      <td>85123A</td>\n",
       "      <td>WHITE HANGING HEART T-LIGHT HOLDER</td>\n",
       "      <td>6</td>\n",
       "      <td>01-12-2010 08:26</td>\n",
       "      <td>2.55</td>\n",
       "      <td>17850.0</td>\n",
       "      <td>United Kingdom</td>\n",
       "    </tr>\n",
       "    <tr>\n",
       "      <th>1</th>\n",
       "      <td>536365</td>\n",
       "      <td>71053</td>\n",
       "      <td>WHITE METAL LANTERN</td>\n",
       "      <td>6</td>\n",
       "      <td>01-12-2010 08:26</td>\n",
       "      <td>3.39</td>\n",
       "      <td>17850.0</td>\n",
       "      <td>United Kingdom</td>\n",
       "    </tr>\n",
       "    <tr>\n",
       "      <th>2</th>\n",
       "      <td>536365</td>\n",
       "      <td>84406B</td>\n",
       "      <td>CREAM CUPID HEARTS COAT HANGER</td>\n",
       "      <td>8</td>\n",
       "      <td>01-12-2010 08:26</td>\n",
       "      <td>2.75</td>\n",
       "      <td>17850.0</td>\n",
       "      <td>United Kingdom</td>\n",
       "    </tr>\n",
       "    <tr>\n",
       "      <th>3</th>\n",
       "      <td>536365</td>\n",
       "      <td>84029G</td>\n",
       "      <td>KNITTED UNION FLAG HOT WATER BOTTLE</td>\n",
       "      <td>6</td>\n",
       "      <td>01-12-2010 08:26</td>\n",
       "      <td>3.39</td>\n",
       "      <td>17850.0</td>\n",
       "      <td>United Kingdom</td>\n",
       "    </tr>\n",
       "    <tr>\n",
       "      <th>4</th>\n",
       "      <td>536365</td>\n",
       "      <td>84029E</td>\n",
       "      <td>RED WOOLLY HOTTIE WHITE HEART.</td>\n",
       "      <td>6</td>\n",
       "      <td>01-12-2010 08:26</td>\n",
       "      <td>3.39</td>\n",
       "      <td>17850.0</td>\n",
       "      <td>United Kingdom</td>\n",
       "    </tr>\n",
       "  </tbody>\n",
       "</table>\n",
       "</div>"
      ],
      "text/plain": [
       "  InvoiceNo StockCode                          Description  Quantity  \\\n",
       "0    536365    85123A   WHITE HANGING HEART T-LIGHT HOLDER         6   \n",
       "1    536365     71053                  WHITE METAL LANTERN         6   \n",
       "2    536365    84406B       CREAM CUPID HEARTS COAT HANGER         8   \n",
       "3    536365    84029G  KNITTED UNION FLAG HOT WATER BOTTLE         6   \n",
       "4    536365    84029E       RED WOOLLY HOTTIE WHITE HEART.         6   \n",
       "\n",
       "        InvoiceDate  UnitPrice  CustomerID         Country  \n",
       "0  01-12-2010 08:26       2.55     17850.0  United Kingdom  \n",
       "1  01-12-2010 08:26       3.39     17850.0  United Kingdom  \n",
       "2  01-12-2010 08:26       2.75     17850.0  United Kingdom  \n",
       "3  01-12-2010 08:26       3.39     17850.0  United Kingdom  \n",
       "4  01-12-2010 08:26       3.39     17850.0  United Kingdom  "
      ]
     },
     "execution_count": 2,
     "metadata": {},
     "output_type": "execute_result"
    }
   ],
   "source": [
    "# Reading the data on which analysis needs to be done\n",
    "\n",
    "retail = pd.read_csv('../input/online-retail-customer-clustering/OnlineRetail.csv', sep=\",\", encoding=\"ISO-8859-1\", header=0)\n",
    "retail.head()"
   ]
  },
  {
   "cell_type": "code",
   "execution_count": 3,
   "metadata": {},
   "outputs": [
    {
     "data": {
      "text/plain": [
       "(541909, 8)"
      ]
     },
     "execution_count": 3,
     "metadata": {},
     "output_type": "execute_result"
    }
   ],
   "source": [
    "# shape of df\n",
    "\n",
    "retail.shape"
   ]
  },
  {
   "cell_type": "code",
   "execution_count": 4,
   "metadata": {},
   "outputs": [
    {
     "name": "stdout",
     "output_type": "stream",
     "text": [
      "<class 'pandas.core.frame.DataFrame'>\n",
      "RangeIndex: 541909 entries, 0 to 541908\n",
      "Data columns (total 8 columns):\n",
      "InvoiceNo      541909 non-null object\n",
      "StockCode      541909 non-null object\n",
      "Description    540455 non-null object\n",
      "Quantity       541909 non-null int64\n",
      "InvoiceDate    541909 non-null object\n",
      "UnitPrice      541909 non-null float64\n",
      "CustomerID     406829 non-null float64\n",
      "Country        541909 non-null object\n",
      "dtypes: float64(2), int64(1), object(5)\n",
      "memory usage: 33.1+ MB\n"
     ]
    }
   ],
   "source": [
    "# df info\n",
    "\n",
    "retail.info()"
   ]
  },
  {
   "cell_type": "code",
   "execution_count": 5,
   "metadata": {},
   "outputs": [
    {
     "data": {
      "text/html": [
       "<div>\n",
       "<style scoped>\n",
       "    .dataframe tbody tr th:only-of-type {\n",
       "        vertical-align: middle;\n",
       "    }\n",
       "\n",
       "    .dataframe tbody tr th {\n",
       "        vertical-align: top;\n",
       "    }\n",
       "\n",
       "    .dataframe thead th {\n",
       "        text-align: right;\n",
       "    }\n",
       "</style>\n",
       "<table border=\"1\" class=\"dataframe\">\n",
       "  <thead>\n",
       "    <tr style=\"text-align: right;\">\n",
       "      <th></th>\n",
       "      <th>Quantity</th>\n",
       "      <th>UnitPrice</th>\n",
       "      <th>CustomerID</th>\n",
       "    </tr>\n",
       "  </thead>\n",
       "  <tbody>\n",
       "    <tr>\n",
       "      <th>count</th>\n",
       "      <td>541909.000000</td>\n",
       "      <td>541909.000000</td>\n",
       "      <td>406829.000000</td>\n",
       "    </tr>\n",
       "    <tr>\n",
       "      <th>mean</th>\n",
       "      <td>9.552250</td>\n",
       "      <td>4.611114</td>\n",
       "      <td>15287.690570</td>\n",
       "    </tr>\n",
       "    <tr>\n",
       "      <th>std</th>\n",
       "      <td>218.081158</td>\n",
       "      <td>96.759853</td>\n",
       "      <td>1713.600303</td>\n",
       "    </tr>\n",
       "    <tr>\n",
       "      <th>min</th>\n",
       "      <td>-80995.000000</td>\n",
       "      <td>-11062.060000</td>\n",
       "      <td>12346.000000</td>\n",
       "    </tr>\n",
       "    <tr>\n",
       "      <th>25%</th>\n",
       "      <td>1.000000</td>\n",
       "      <td>1.250000</td>\n",
       "      <td>13953.000000</td>\n",
       "    </tr>\n",
       "    <tr>\n",
       "      <th>50%</th>\n",
       "      <td>3.000000</td>\n",
       "      <td>2.080000</td>\n",
       "      <td>15152.000000</td>\n",
       "    </tr>\n",
       "    <tr>\n",
       "      <th>75%</th>\n",
       "      <td>10.000000</td>\n",
       "      <td>4.130000</td>\n",
       "      <td>16791.000000</td>\n",
       "    </tr>\n",
       "    <tr>\n",
       "      <th>max</th>\n",
       "      <td>80995.000000</td>\n",
       "      <td>38970.000000</td>\n",
       "      <td>18287.000000</td>\n",
       "    </tr>\n",
       "  </tbody>\n",
       "</table>\n",
       "</div>"
      ],
      "text/plain": [
       "            Quantity      UnitPrice     CustomerID\n",
       "count  541909.000000  541909.000000  406829.000000\n",
       "mean        9.552250       4.611114   15287.690570\n",
       "std       218.081158      96.759853    1713.600303\n",
       "min    -80995.000000  -11062.060000   12346.000000\n",
       "25%         1.000000       1.250000   13953.000000\n",
       "50%         3.000000       2.080000   15152.000000\n",
       "75%        10.000000       4.130000   16791.000000\n",
       "max     80995.000000   38970.000000   18287.000000"
      ]
     },
     "execution_count": 5,
     "metadata": {},
     "output_type": "execute_result"
    }
   ],
   "source": [
    "# df description\n",
    "\n",
    "retail.describe()"
   ]
  },
  {
   "cell_type": "markdown",
   "metadata": {},
   "source": [
    "<a id=\"2\"></a> <br>\n",
    "## Step 2 : Data Cleansing"
   ]
  },
  {
   "cell_type": "code",
   "execution_count": 6,
   "metadata": {},
   "outputs": [
    {
     "data": {
      "text/plain": [
       "InvoiceNo       0.00\n",
       "StockCode       0.00\n",
       "Description     0.27\n",
       "Quantity        0.00\n",
       "InvoiceDate     0.00\n",
       "UnitPrice       0.00\n",
       "CustomerID     24.93\n",
       "Country         0.00\n",
       "dtype: float64"
      ]
     },
     "execution_count": 6,
     "metadata": {},
     "output_type": "execute_result"
    }
   ],
   "source": [
    "# Calculating the Missing Values % contribution in DF\n",
    "\n",
    "df_null = round(100*(retail.isnull().sum())/len(retail), 2)\n",
    "df_null"
   ]
  },
  {
   "cell_type": "code",
   "execution_count": 7,
   "metadata": {},
   "outputs": [
    {
     "data": {
      "text/plain": [
       "(406829, 8)"
      ]
     },
     "execution_count": 7,
     "metadata": {},
     "output_type": "execute_result"
    }
   ],
   "source": [
    "# Droping rows having missing values\n",
    "\n",
    "retail = retail.dropna()\n",
    "retail.shape"
   ]
  },
  {
   "cell_type": "code",
   "execution_count": 8,
   "metadata": {},
   "outputs": [],
   "source": [
    "# Changing the datatype of Customer Id as per Business understanding\n",
    "\n",
    "retail['CustomerID'] = retail['CustomerID'].astype(str)"
   ]
  },
  {
   "cell_type": "markdown",
   "metadata": {},
   "source": [
    "<a id=\"3\"></a> <br>\n",
    "## Step 3 : Data Preparation"
   ]
  },
  {
   "cell_type": "markdown",
   "metadata": {},
   "source": [
    "#### We are going to analysis the Customers based on below 3 factors:\n",
    "- R (Recency): Number of days since last purchase\n",
    "- F (Frequency): Number of tracsactions\n",
    "- M (Monetary): Total amount of transactions (revenue contributed)"
   ]
  },
  {
   "cell_type": "code",
   "execution_count": 9,
   "metadata": {},
   "outputs": [
    {
     "data": {
      "text/html": [
       "<div>\n",
       "<style scoped>\n",
       "    .dataframe tbody tr th:only-of-type {\n",
       "        vertical-align: middle;\n",
       "    }\n",
       "\n",
       "    .dataframe tbody tr th {\n",
       "        vertical-align: top;\n",
       "    }\n",
       "\n",
       "    .dataframe thead th {\n",
       "        text-align: right;\n",
       "    }\n",
       "</style>\n",
       "<table border=\"1\" class=\"dataframe\">\n",
       "  <thead>\n",
       "    <tr style=\"text-align: right;\">\n",
       "      <th></th>\n",
       "      <th>CustomerID</th>\n",
       "      <th>Amount</th>\n",
       "    </tr>\n",
       "  </thead>\n",
       "  <tbody>\n",
       "    <tr>\n",
       "      <th>0</th>\n",
       "      <td>12346.0</td>\n",
       "      <td>0.00</td>\n",
       "    </tr>\n",
       "    <tr>\n",
       "      <th>1</th>\n",
       "      <td>12347.0</td>\n",
       "      <td>4310.00</td>\n",
       "    </tr>\n",
       "    <tr>\n",
       "      <th>2</th>\n",
       "      <td>12348.0</td>\n",
       "      <td>1797.24</td>\n",
       "    </tr>\n",
       "    <tr>\n",
       "      <th>3</th>\n",
       "      <td>12349.0</td>\n",
       "      <td>1757.55</td>\n",
       "    </tr>\n",
       "    <tr>\n",
       "      <th>4</th>\n",
       "      <td>12350.0</td>\n",
       "      <td>334.40</td>\n",
       "    </tr>\n",
       "  </tbody>\n",
       "</table>\n",
       "</div>"
      ],
      "text/plain": [
       "  CustomerID   Amount\n",
       "0    12346.0     0.00\n",
       "1    12347.0  4310.00\n",
       "2    12348.0  1797.24\n",
       "3    12349.0  1757.55\n",
       "4    12350.0   334.40"
      ]
     },
     "execution_count": 9,
     "metadata": {},
     "output_type": "execute_result"
    }
   ],
   "source": [
    "# New Attribute : Monetary\n",
    "\n",
    "retail['Amount'] = retail['Quantity']*retail['UnitPrice']\n",
    "rfm_m = retail.groupby('CustomerID')['Amount'].sum()\n",
    "rfm_m = rfm_m.reset_index()\n",
    "rfm_m.head()"
   ]
  },
  {
   "cell_type": "code",
   "execution_count": 10,
   "metadata": {},
   "outputs": [
    {
     "data": {
      "text/html": [
       "<div>\n",
       "<style scoped>\n",
       "    .dataframe tbody tr th:only-of-type {\n",
       "        vertical-align: middle;\n",
       "    }\n",
       "\n",
       "    .dataframe tbody tr th {\n",
       "        vertical-align: top;\n",
       "    }\n",
       "\n",
       "    .dataframe thead th {\n",
       "        text-align: right;\n",
       "    }\n",
       "</style>\n",
       "<table border=\"1\" class=\"dataframe\">\n",
       "  <thead>\n",
       "    <tr style=\"text-align: right;\">\n",
       "      <th></th>\n",
       "      <th>CustomerID</th>\n",
       "      <th>Frequency</th>\n",
       "    </tr>\n",
       "  </thead>\n",
       "  <tbody>\n",
       "    <tr>\n",
       "      <th>0</th>\n",
       "      <td>12346.0</td>\n",
       "      <td>2</td>\n",
       "    </tr>\n",
       "    <tr>\n",
       "      <th>1</th>\n",
       "      <td>12347.0</td>\n",
       "      <td>182</td>\n",
       "    </tr>\n",
       "    <tr>\n",
       "      <th>2</th>\n",
       "      <td>12348.0</td>\n",
       "      <td>31</td>\n",
       "    </tr>\n",
       "    <tr>\n",
       "      <th>3</th>\n",
       "      <td>12349.0</td>\n",
       "      <td>73</td>\n",
       "    </tr>\n",
       "    <tr>\n",
       "      <th>4</th>\n",
       "      <td>12350.0</td>\n",
       "      <td>17</td>\n",
       "    </tr>\n",
       "  </tbody>\n",
       "</table>\n",
       "</div>"
      ],
      "text/plain": [
       "  CustomerID  Frequency\n",
       "0    12346.0          2\n",
       "1    12347.0        182\n",
       "2    12348.0         31\n",
       "3    12349.0         73\n",
       "4    12350.0         17"
      ]
     },
     "execution_count": 10,
     "metadata": {},
     "output_type": "execute_result"
    }
   ],
   "source": [
    "# New Attribute : Frequency\n",
    "\n",
    "rfm_f = retail.groupby('CustomerID')['InvoiceNo'].count()\n",
    "rfm_f = rfm_f.reset_index()\n",
    "rfm_f.columns = ['CustomerID', 'Frequency']\n",
    "rfm_f.head()"
   ]
  },
  {
   "cell_type": "code",
   "execution_count": 11,
   "metadata": {
    "scrolled": true
   },
   "outputs": [
    {
     "data": {
      "text/html": [
       "<div>\n",
       "<style scoped>\n",
       "    .dataframe tbody tr th:only-of-type {\n",
       "        vertical-align: middle;\n",
       "    }\n",
       "\n",
       "    .dataframe tbody tr th {\n",
       "        vertical-align: top;\n",
       "    }\n",
       "\n",
       "    .dataframe thead th {\n",
       "        text-align: right;\n",
       "    }\n",
       "</style>\n",
       "<table border=\"1\" class=\"dataframe\">\n",
       "  <thead>\n",
       "    <tr style=\"text-align: right;\">\n",
       "      <th></th>\n",
       "      <th>CustomerID</th>\n",
       "      <th>Amount</th>\n",
       "      <th>Frequency</th>\n",
       "    </tr>\n",
       "  </thead>\n",
       "  <tbody>\n",
       "    <tr>\n",
       "      <th>0</th>\n",
       "      <td>12346.0</td>\n",
       "      <td>0.00</td>\n",
       "      <td>2</td>\n",
       "    </tr>\n",
       "    <tr>\n",
       "      <th>1</th>\n",
       "      <td>12347.0</td>\n",
       "      <td>4310.00</td>\n",
       "      <td>182</td>\n",
       "    </tr>\n",
       "    <tr>\n",
       "      <th>2</th>\n",
       "      <td>12348.0</td>\n",
       "      <td>1797.24</td>\n",
       "      <td>31</td>\n",
       "    </tr>\n",
       "    <tr>\n",
       "      <th>3</th>\n",
       "      <td>12349.0</td>\n",
       "      <td>1757.55</td>\n",
       "      <td>73</td>\n",
       "    </tr>\n",
       "    <tr>\n",
       "      <th>4</th>\n",
       "      <td>12350.0</td>\n",
       "      <td>334.40</td>\n",
       "      <td>17</td>\n",
       "    </tr>\n",
       "  </tbody>\n",
       "</table>\n",
       "</div>"
      ],
      "text/plain": [
       "  CustomerID   Amount  Frequency\n",
       "0    12346.0     0.00          2\n",
       "1    12347.0  4310.00        182\n",
       "2    12348.0  1797.24         31\n",
       "3    12349.0  1757.55         73\n",
       "4    12350.0   334.40         17"
      ]
     },
     "execution_count": 11,
     "metadata": {},
     "output_type": "execute_result"
    }
   ],
   "source": [
    "# Merging the two dfs\n",
    "\n",
    "rfm = pd.merge(rfm_m, rfm_f, on='CustomerID', how='inner')\n",
    "rfm.head()"
   ]
  },
  {
   "cell_type": "code",
   "execution_count": 12,
   "metadata": {},
   "outputs": [],
   "source": [
    "# New Attribute : Recency\n",
    "\n",
    "# Convert to datetime to proper datatype\n",
    "\n",
    "retail['InvoiceDate'] = pd.to_datetime(retail['InvoiceDate'],format='%d-%m-%Y %H:%M')"
   ]
  },
  {
   "cell_type": "code",
   "execution_count": 13,
   "metadata": {},
   "outputs": [
    {
     "data": {
      "text/plain": [
       "Timestamp('2011-12-09 12:50:00')"
      ]
     },
     "execution_count": 13,
     "metadata": {},
     "output_type": "execute_result"
    }
   ],
   "source": [
    "# Compute the maximum date to know the last transaction date\n",
    "\n",
    "max_date = max(retail['InvoiceDate'])\n",
    "max_date"
   ]
  },
  {
   "cell_type": "code",
   "execution_count": 14,
   "metadata": {},
   "outputs": [
    {
     "data": {
      "text/html": [
       "<div>\n",
       "<style scoped>\n",
       "    .dataframe tbody tr th:only-of-type {\n",
       "        vertical-align: middle;\n",
       "    }\n",
       "\n",
       "    .dataframe tbody tr th {\n",
       "        vertical-align: top;\n",
       "    }\n",
       "\n",
       "    .dataframe thead th {\n",
       "        text-align: right;\n",
       "    }\n",
       "</style>\n",
       "<table border=\"1\" class=\"dataframe\">\n",
       "  <thead>\n",
       "    <tr style=\"text-align: right;\">\n",
       "      <th></th>\n",
       "      <th>InvoiceNo</th>\n",
       "      <th>StockCode</th>\n",
       "      <th>Description</th>\n",
       "      <th>Quantity</th>\n",
       "      <th>InvoiceDate</th>\n",
       "      <th>UnitPrice</th>\n",
       "      <th>CustomerID</th>\n",
       "      <th>Country</th>\n",
       "      <th>Amount</th>\n",
       "      <th>Diff</th>\n",
       "    </tr>\n",
       "  </thead>\n",
       "  <tbody>\n",
       "    <tr>\n",
       "      <th>0</th>\n",
       "      <td>536365</td>\n",
       "      <td>85123A</td>\n",
       "      <td>WHITE HANGING HEART T-LIGHT HOLDER</td>\n",
       "      <td>6</td>\n",
       "      <td>2010-12-01 08:26:00</td>\n",
       "      <td>2.55</td>\n",
       "      <td>17850.0</td>\n",
       "      <td>United Kingdom</td>\n",
       "      <td>15.30</td>\n",
       "      <td>373 days 04:24:00</td>\n",
       "    </tr>\n",
       "    <tr>\n",
       "      <th>1</th>\n",
       "      <td>536365</td>\n",
       "      <td>71053</td>\n",
       "      <td>WHITE METAL LANTERN</td>\n",
       "      <td>6</td>\n",
       "      <td>2010-12-01 08:26:00</td>\n",
       "      <td>3.39</td>\n",
       "      <td>17850.0</td>\n",
       "      <td>United Kingdom</td>\n",
       "      <td>20.34</td>\n",
       "      <td>373 days 04:24:00</td>\n",
       "    </tr>\n",
       "    <tr>\n",
       "      <th>2</th>\n",
       "      <td>536365</td>\n",
       "      <td>84406B</td>\n",
       "      <td>CREAM CUPID HEARTS COAT HANGER</td>\n",
       "      <td>8</td>\n",
       "      <td>2010-12-01 08:26:00</td>\n",
       "      <td>2.75</td>\n",
       "      <td>17850.0</td>\n",
       "      <td>United Kingdom</td>\n",
       "      <td>22.00</td>\n",
       "      <td>373 days 04:24:00</td>\n",
       "    </tr>\n",
       "    <tr>\n",
       "      <th>3</th>\n",
       "      <td>536365</td>\n",
       "      <td>84029G</td>\n",
       "      <td>KNITTED UNION FLAG HOT WATER BOTTLE</td>\n",
       "      <td>6</td>\n",
       "      <td>2010-12-01 08:26:00</td>\n",
       "      <td>3.39</td>\n",
       "      <td>17850.0</td>\n",
       "      <td>United Kingdom</td>\n",
       "      <td>20.34</td>\n",
       "      <td>373 days 04:24:00</td>\n",
       "    </tr>\n",
       "    <tr>\n",
       "      <th>4</th>\n",
       "      <td>536365</td>\n",
       "      <td>84029E</td>\n",
       "      <td>RED WOOLLY HOTTIE WHITE HEART.</td>\n",
       "      <td>6</td>\n",
       "      <td>2010-12-01 08:26:00</td>\n",
       "      <td>3.39</td>\n",
       "      <td>17850.0</td>\n",
       "      <td>United Kingdom</td>\n",
       "      <td>20.34</td>\n",
       "      <td>373 days 04:24:00</td>\n",
       "    </tr>\n",
       "  </tbody>\n",
       "</table>\n",
       "</div>"
      ],
      "text/plain": [
       "  InvoiceNo StockCode                          Description  Quantity  \\\n",
       "0    536365    85123A   WHITE HANGING HEART T-LIGHT HOLDER         6   \n",
       "1    536365     71053                  WHITE METAL LANTERN         6   \n",
       "2    536365    84406B       CREAM CUPID HEARTS COAT HANGER         8   \n",
       "3    536365    84029G  KNITTED UNION FLAG HOT WATER BOTTLE         6   \n",
       "4    536365    84029E       RED WOOLLY HOTTIE WHITE HEART.         6   \n",
       "\n",
       "          InvoiceDate  UnitPrice CustomerID         Country  Amount  \\\n",
       "0 2010-12-01 08:26:00       2.55    17850.0  United Kingdom   15.30   \n",
       "1 2010-12-01 08:26:00       3.39    17850.0  United Kingdom   20.34   \n",
       "2 2010-12-01 08:26:00       2.75    17850.0  United Kingdom   22.00   \n",
       "3 2010-12-01 08:26:00       3.39    17850.0  United Kingdom   20.34   \n",
       "4 2010-12-01 08:26:00       3.39    17850.0  United Kingdom   20.34   \n",
       "\n",
       "               Diff  \n",
       "0 373 days 04:24:00  \n",
       "1 373 days 04:24:00  \n",
       "2 373 days 04:24:00  \n",
       "3 373 days 04:24:00  \n",
       "4 373 days 04:24:00  "
      ]
     },
     "execution_count": 14,
     "metadata": {},
     "output_type": "execute_result"
    }
   ],
   "source": [
    "# Compute the difference between max date and transaction date\n",
    "\n",
    "retail['Diff'] = max_date - retail['InvoiceDate']\n",
    "retail.head()"
   ]
  },
  {
   "cell_type": "code",
   "execution_count": 15,
   "metadata": {},
   "outputs": [
    {
     "data": {
      "text/html": [
       "<div>\n",
       "<style scoped>\n",
       "    .dataframe tbody tr th:only-of-type {\n",
       "        vertical-align: middle;\n",
       "    }\n",
       "\n",
       "    .dataframe tbody tr th {\n",
       "        vertical-align: top;\n",
       "    }\n",
       "\n",
       "    .dataframe thead th {\n",
       "        text-align: right;\n",
       "    }\n",
       "</style>\n",
       "<table border=\"1\" class=\"dataframe\">\n",
       "  <thead>\n",
       "    <tr style=\"text-align: right;\">\n",
       "      <th></th>\n",
       "      <th>CustomerID</th>\n",
       "      <th>Diff</th>\n",
       "    </tr>\n",
       "  </thead>\n",
       "  <tbody>\n",
       "    <tr>\n",
       "      <th>0</th>\n",
       "      <td>12346.0</td>\n",
       "      <td>325 days 02:33:00</td>\n",
       "    </tr>\n",
       "    <tr>\n",
       "      <th>1</th>\n",
       "      <td>12347.0</td>\n",
       "      <td>1 days 20:58:00</td>\n",
       "    </tr>\n",
       "    <tr>\n",
       "      <th>2</th>\n",
       "      <td>12348.0</td>\n",
       "      <td>74 days 23:37:00</td>\n",
       "    </tr>\n",
       "    <tr>\n",
       "      <th>3</th>\n",
       "      <td>12349.0</td>\n",
       "      <td>18 days 02:59:00</td>\n",
       "    </tr>\n",
       "    <tr>\n",
       "      <th>4</th>\n",
       "      <td>12350.0</td>\n",
       "      <td>309 days 20:49:00</td>\n",
       "    </tr>\n",
       "  </tbody>\n",
       "</table>\n",
       "</div>"
      ],
      "text/plain": [
       "  CustomerID              Diff\n",
       "0    12346.0 325 days 02:33:00\n",
       "1    12347.0   1 days 20:58:00\n",
       "2    12348.0  74 days 23:37:00\n",
       "3    12349.0  18 days 02:59:00\n",
       "4    12350.0 309 days 20:49:00"
      ]
     },
     "execution_count": 15,
     "metadata": {},
     "output_type": "execute_result"
    }
   ],
   "source": [
    "# Compute last transaction date to get the recency of customers\n",
    "\n",
    "rfm_p = retail.groupby('CustomerID')['Diff'].min()\n",
    "rfm_p = rfm_p.reset_index()\n",
    "rfm_p.head()"
   ]
  },
  {
   "cell_type": "code",
   "execution_count": 16,
   "metadata": {},
   "outputs": [
    {
     "data": {
      "text/html": [
       "<div>\n",
       "<style scoped>\n",
       "    .dataframe tbody tr th:only-of-type {\n",
       "        vertical-align: middle;\n",
       "    }\n",
       "\n",
       "    .dataframe tbody tr th {\n",
       "        vertical-align: top;\n",
       "    }\n",
       "\n",
       "    .dataframe thead th {\n",
       "        text-align: right;\n",
       "    }\n",
       "</style>\n",
       "<table border=\"1\" class=\"dataframe\">\n",
       "  <thead>\n",
       "    <tr style=\"text-align: right;\">\n",
       "      <th></th>\n",
       "      <th>CustomerID</th>\n",
       "      <th>Diff</th>\n",
       "    </tr>\n",
       "  </thead>\n",
       "  <tbody>\n",
       "    <tr>\n",
       "      <th>0</th>\n",
       "      <td>12346.0</td>\n",
       "      <td>325</td>\n",
       "    </tr>\n",
       "    <tr>\n",
       "      <th>1</th>\n",
       "      <td>12347.0</td>\n",
       "      <td>1</td>\n",
       "    </tr>\n",
       "    <tr>\n",
       "      <th>2</th>\n",
       "      <td>12348.0</td>\n",
       "      <td>74</td>\n",
       "    </tr>\n",
       "    <tr>\n",
       "      <th>3</th>\n",
       "      <td>12349.0</td>\n",
       "      <td>18</td>\n",
       "    </tr>\n",
       "    <tr>\n",
       "      <th>4</th>\n",
       "      <td>12350.0</td>\n",
       "      <td>309</td>\n",
       "    </tr>\n",
       "  </tbody>\n",
       "</table>\n",
       "</div>"
      ],
      "text/plain": [
       "  CustomerID  Diff\n",
       "0    12346.0   325\n",
       "1    12347.0     1\n",
       "2    12348.0    74\n",
       "3    12349.0    18\n",
       "4    12350.0   309"
      ]
     },
     "execution_count": 16,
     "metadata": {},
     "output_type": "execute_result"
    }
   ],
   "source": [
    "# Extract number of days only\n",
    "\n",
    "rfm_p['Diff'] = rfm_p['Diff'].dt.days\n",
    "rfm_p.head()"
   ]
  },
  {
   "cell_type": "code",
   "execution_count": 17,
   "metadata": {},
   "outputs": [
    {
     "data": {
      "text/html": [
       "<div>\n",
       "<style scoped>\n",
       "    .dataframe tbody tr th:only-of-type {\n",
       "        vertical-align: middle;\n",
       "    }\n",
       "\n",
       "    .dataframe tbody tr th {\n",
       "        vertical-align: top;\n",
       "    }\n",
       "\n",
       "    .dataframe thead th {\n",
       "        text-align: right;\n",
       "    }\n",
       "</style>\n",
       "<table border=\"1\" class=\"dataframe\">\n",
       "  <thead>\n",
       "    <tr style=\"text-align: right;\">\n",
       "      <th></th>\n",
       "      <th>CustomerID</th>\n",
       "      <th>Amount</th>\n",
       "      <th>Frequency</th>\n",
       "      <th>Recency</th>\n",
       "    </tr>\n",
       "  </thead>\n",
       "  <tbody>\n",
       "    <tr>\n",
       "      <th>0</th>\n",
       "      <td>12346.0</td>\n",
       "      <td>0.00</td>\n",
       "      <td>2</td>\n",
       "      <td>325</td>\n",
       "    </tr>\n",
       "    <tr>\n",
       "      <th>1</th>\n",
       "      <td>12347.0</td>\n",
       "      <td>4310.00</td>\n",
       "      <td>182</td>\n",
       "      <td>1</td>\n",
       "    </tr>\n",
       "    <tr>\n",
       "      <th>2</th>\n",
       "      <td>12348.0</td>\n",
       "      <td>1797.24</td>\n",
       "      <td>31</td>\n",
       "      <td>74</td>\n",
       "    </tr>\n",
       "    <tr>\n",
       "      <th>3</th>\n",
       "      <td>12349.0</td>\n",
       "      <td>1757.55</td>\n",
       "      <td>73</td>\n",
       "      <td>18</td>\n",
       "    </tr>\n",
       "    <tr>\n",
       "      <th>4</th>\n",
       "      <td>12350.0</td>\n",
       "      <td>334.40</td>\n",
       "      <td>17</td>\n",
       "      <td>309</td>\n",
       "    </tr>\n",
       "  </tbody>\n",
       "</table>\n",
       "</div>"
      ],
      "text/plain": [
       "  CustomerID   Amount  Frequency  Recency\n",
       "0    12346.0     0.00          2      325\n",
       "1    12347.0  4310.00        182        1\n",
       "2    12348.0  1797.24         31       74\n",
       "3    12349.0  1757.55         73       18\n",
       "4    12350.0   334.40         17      309"
      ]
     },
     "execution_count": 17,
     "metadata": {},
     "output_type": "execute_result"
    }
   ],
   "source": [
    "# Merge tha dataframes to get the final RFM dataframe\n",
    "\n",
    "rfm = pd.merge(rfm, rfm_p, on='CustomerID', how='inner')\n",
    "rfm.columns = ['CustomerID', 'Amount', 'Frequency', 'Recency']\n",
    "rfm.head()"
   ]
  },
  {
   "cell_type": "markdown",
   "metadata": {},
   "source": [
    "#### There are 2 types of outliers and we will treat outliers as it can skew our dataset\n",
    "- Statistical\n",
    "- Domain specific"
   ]
  },
  {
   "cell_type": "code",
   "execution_count": 18,
   "metadata": {},
   "outputs": [
    {
     "data": {
      "text/plain": [
       "Text(0.5, 0, 'Attributes')"
      ]
     },
     "execution_count": 18,
     "metadata": {},
     "output_type": "execute_result"
    },
    {
     "data": {
      "image/png": "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\n",
      "text/plain": [
       "<Figure size 720x576 with 1 Axes>"
      ]
     },
     "metadata": {
      "needs_background": "light"
     },
     "output_type": "display_data"
    }
   ],
   "source": [
    "# Outlier Analysis of Amount Frequency and Recency\n",
    "\n",
    "attributes = ['Amount','Frequency','Recency']\n",
    "plt.rcParams['figure.figsize'] = [10,8]\n",
    "sns.boxplot(data = rfm[attributes], orient=\"v\", palette=\"Set2\" ,whis=1.5,saturation=1, width=0.7)\n",
    "plt.title(\"Outliers Variable Distribution\", fontsize = 14, fontweight = 'bold')\n",
    "plt.ylabel(\"Range\", fontweight = 'bold')\n",
    "plt.xlabel(\"Attributes\", fontweight = 'bold')"
   ]
  },
  {
   "cell_type": "code",
   "execution_count": 19,
   "metadata": {},
   "outputs": [],
   "source": [
    "# Removing (statistical) outliers for Amount\n",
    "Q1 = rfm.Amount.quantile(0.05)\n",
    "Q3 = rfm.Amount.quantile(0.95)\n",
    "IQR = Q3 - Q1\n",
    "rfm = rfm[(rfm.Amount >= Q1 - 1.5*IQR) & (rfm.Amount <= Q3 + 1.5*IQR)]\n",
    "\n",
    "# Removing (statistical) outliers for Recency\n",
    "Q1 = rfm.Recency.quantile(0.05)\n",
    "Q3 = rfm.Recency.quantile(0.95)\n",
    "IQR = Q3 - Q1\n",
    "rfm = rfm[(rfm.Recency >= Q1 - 1.5*IQR) & (rfm.Recency <= Q3 + 1.5*IQR)]\n",
    "\n",
    "# Removing (statistical) outliers for Frequency\n",
    "Q1 = rfm.Frequency.quantile(0.05)\n",
    "Q3 = rfm.Frequency.quantile(0.95)\n",
    "IQR = Q3 - Q1\n",
    "rfm = rfm[(rfm.Frequency >= Q1 - 1.5*IQR) & (rfm.Frequency <= Q3 + 1.5*IQR)]"
   ]
  },
  {
   "cell_type": "markdown",
   "metadata": {},
   "source": [
    "### Rescaling the Attributes\n",
    "\n",
    "It is extremely important to rescale the variables so that they have a comparable scale.|\n",
    "There are two common ways of rescaling:\n",
    "\n",
    "1. Min-Max scaling \n",
    "2. Standardisation (mean-0, sigma-1) \n",
    "\n",
    "Here, we will use Standardisation Scaling."
   ]
  },
  {
   "cell_type": "code",
   "execution_count": 20,
   "metadata": {},
   "outputs": [
    {
     "data": {
      "text/plain": [
       "(4293, 3)"
      ]
     },
     "execution_count": 20,
     "metadata": {},
     "output_type": "execute_result"
    }
   ],
   "source": [
    "# Rescaling the attributes\n",
    "\n",
    "rfm_df = rfm[['Amount', 'Frequency', 'Recency']]\n",
    "\n",
    "# Instantiate\n",
    "scaler = StandardScaler()\n",
    "\n",
    "# fit_transform\n",
    "rfm_df_scaled = scaler.fit_transform(rfm_df)\n",
    "rfm_df_scaled.shape"
   ]
  },
  {
   "cell_type": "code",
   "execution_count": 21,
   "metadata": {},
   "outputs": [
    {
     "data": {
      "text/html": [
       "<div>\n",
       "<style scoped>\n",
       "    .dataframe tbody tr th:only-of-type {\n",
       "        vertical-align: middle;\n",
       "    }\n",
       "\n",
       "    .dataframe tbody tr th {\n",
       "        vertical-align: top;\n",
       "    }\n",
       "\n",
       "    .dataframe thead th {\n",
       "        text-align: right;\n",
       "    }\n",
       "</style>\n",
       "<table border=\"1\" class=\"dataframe\">\n",
       "  <thead>\n",
       "    <tr style=\"text-align: right;\">\n",
       "      <th></th>\n",
       "      <th>Amount</th>\n",
       "      <th>Frequency</th>\n",
       "      <th>Recency</th>\n",
       "    </tr>\n",
       "  </thead>\n",
       "  <tbody>\n",
       "    <tr>\n",
       "      <th>0</th>\n",
       "      <td>-0.723738</td>\n",
       "      <td>-0.752888</td>\n",
       "      <td>2.301611</td>\n",
       "    </tr>\n",
       "    <tr>\n",
       "      <th>1</th>\n",
       "      <td>1.731617</td>\n",
       "      <td>1.042467</td>\n",
       "      <td>-0.906466</td>\n",
       "    </tr>\n",
       "    <tr>\n",
       "      <th>2</th>\n",
       "      <td>0.300128</td>\n",
       "      <td>-0.463636</td>\n",
       "      <td>-0.183658</td>\n",
       "    </tr>\n",
       "    <tr>\n",
       "      <th>3</th>\n",
       "      <td>0.277517</td>\n",
       "      <td>-0.044720</td>\n",
       "      <td>-0.738141</td>\n",
       "    </tr>\n",
       "    <tr>\n",
       "      <th>4</th>\n",
       "      <td>-0.533235</td>\n",
       "      <td>-0.603275</td>\n",
       "      <td>2.143188</td>\n",
       "    </tr>\n",
       "  </tbody>\n",
       "</table>\n",
       "</div>"
      ],
      "text/plain": [
       "     Amount  Frequency   Recency\n",
       "0 -0.723738  -0.752888  2.301611\n",
       "1  1.731617   1.042467 -0.906466\n",
       "2  0.300128  -0.463636 -0.183658\n",
       "3  0.277517  -0.044720 -0.738141\n",
       "4 -0.533235  -0.603275  2.143188"
      ]
     },
     "execution_count": 21,
     "metadata": {},
     "output_type": "execute_result"
    }
   ],
   "source": [
    "rfm_df_scaled = pd.DataFrame(rfm_df_scaled)\n",
    "rfm_df_scaled.columns = ['Amount', 'Frequency', 'Recency']\n",
    "rfm_df_scaled.head()"
   ]
  },
  {
   "cell_type": "markdown",
   "metadata": {},
   "source": [
    "<a id=\"4\"></a> <br>\n",
    "## Step 4 : Building the Model"
   ]
  },
  {
   "cell_type": "markdown",
   "metadata": {},
   "source": [
    "### K-Means Clustering"
   ]
  },
  {
   "cell_type": "markdown",
   "metadata": {},
   "source": [
    "K-means clustering is one of the simplest and popular unsupervised machine learning algorithms.<br>\n",
    "\n",
    "The algorithm works as follows:\n",
    "\n",
    "- First we initialize k points, called means, randomly.\n",
    "- We categorize each item to its closest mean and we update the mean’s coordinates, which are the averages of the items categorized in that mean so far.\n",
    "- We repeat the process for a given number of iterations and at the end, we have our clusters."
   ]
  },
  {
   "cell_type": "code",
   "execution_count": 22,
   "metadata": {},
   "outputs": [
    {
     "data": {
      "text/plain": [
       "KMeans(algorithm='auto', copy_x=True, init='k-means++', max_iter=50,\n",
       "       n_clusters=4, n_init=10, n_jobs=None, precompute_distances='auto',\n",
       "       random_state=None, tol=0.0001, verbose=0)"
      ]
     },
     "execution_count": 22,
     "metadata": {},
     "output_type": "execute_result"
    }
   ],
   "source": [
    "# k-means with some arbitrary k\n",
    "\n",
    "kmeans = KMeans(n_clusters=4, max_iter=50)\n",
    "kmeans.fit(rfm_df_scaled)"
   ]
  },
  {
   "cell_type": "code",
   "execution_count": 23,
   "metadata": {},
   "outputs": [
    {
     "data": {
      "text/plain": [
       "array([1, 3, 0, ..., 1, 0, 0], dtype=int32)"
      ]
     },
     "execution_count": 23,
     "metadata": {},
     "output_type": "execute_result"
    }
   ],
   "source": [
    "kmeans.labels_"
   ]
  },
  {
   "cell_type": "markdown",
   "metadata": {},
   "source": [
    "### Finding the Optimal Number of Clusters"
   ]
  },
  {
   "cell_type": "markdown",
   "metadata": {},
   "source": [
    "#### Elbow Curve to get the right number of Clusters\n",
    "A fundamental step for any unsupervised algorithm is to determine the optimal number of clusters into which the data may be clustered. The Elbow Method is one of the most popular methods to determine this optimal value of k."
   ]
  },
  {
   "cell_type": "code",
   "execution_count": 24,
   "metadata": {},
   "outputs": [
    {
     "data": {
      "text/plain": [
       "[<matplotlib.lines.Line2D at 0x7f2a1d740a20>]"
      ]
     },
     "execution_count": 24,
     "metadata": {},
     "output_type": "execute_result"
    },
    {
     "data": {
      "image/png": "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\n",
      "text/plain": [
       "<Figure size 720x576 with 1 Axes>"
      ]
     },
     "metadata": {
      "needs_background": "light"
     },
     "output_type": "display_data"
    }
   ],
   "source": [
    "# Elbow-curve/SSD\n",
    "\n",
    "ssd = []\n",
    "range_n_clusters = [2, 3, 4, 5, 6, 7, 8]\n",
    "for num_clusters in range_n_clusters:\n",
    "    kmeans = KMeans(n_clusters=num_clusters, max_iter=50)\n",
    "    kmeans.fit(rfm_df_scaled)\n",
    "    \n",
    "    ssd.append(kmeans.inertia_)\n",
    "    \n",
    "# plot the SSDs for each n_clusters\n",
    "plt.plot(ssd)"
   ]
  },
  {
   "cell_type": "markdown",
   "metadata": {},
   "source": [
    "### Silhouette Analysis\n",
    "\n",
    "$$\\text{silhouette score}=\\frac{p-q}{max(p,q)}$$\n",
    "\n",
    "$p$ is the mean distance to the points in the nearest cluster that the data point is not a part of\n",
    "\n",
    "$q$ is the mean intra-cluster distance to all the points in its own cluster.\n",
    "\n",
    "* The value of the silhouette score range lies between -1 to 1. \n",
    "\n",
    "* A score closer to 1 indicates that the data point is very similar to other data points in the cluster, \n",
    "\n",
    "* A score closer to -1 indicates that the data point is not similar to the data points in its cluster."
   ]
  },
  {
   "cell_type": "code",
   "execution_count": 25,
   "metadata": {},
   "outputs": [
    {
     "name": "stdout",
     "output_type": "stream",
     "text": [
      "For n_clusters=2, the silhouette score is 0.5415858652525395\n",
      "For n_clusters=3, the silhouette score is 0.5084896296141937\n",
      "For n_clusters=4, the silhouette score is 0.4816551560193964\n",
      "For n_clusters=5, the silhouette score is 0.4646444032280179\n",
      "For n_clusters=6, the silhouette score is 0.4171229822428261\n",
      "For n_clusters=7, the silhouette score is 0.4163434484832087\n",
      "For n_clusters=8, the silhouette score is 0.4097764149832758\n"
     ]
    }
   ],
   "source": [
    "# Silhouette analysis\n",
    "range_n_clusters = [2, 3, 4, 5, 6, 7, 8]\n",
    "\n",
    "for num_clusters in range_n_clusters:\n",
    "    \n",
    "    # intialise kmeans\n",
    "    kmeans = KMeans(n_clusters=num_clusters, max_iter=50)\n",
    "    kmeans.fit(rfm_df_scaled)\n",
    "    \n",
    "    cluster_labels = kmeans.labels_\n",
    "    \n",
    "    # silhouette score\n",
    "    silhouette_avg = silhouette_score(rfm_df_scaled, cluster_labels)\n",
    "    print(\"For n_clusters={0}, the silhouette score is {1}\".format(num_clusters, silhouette_avg))\n",
    "    \n",
    "    "
   ]
  },
  {
   "cell_type": "code",
   "execution_count": 26,
   "metadata": {},
   "outputs": [
    {
     "data": {
      "text/plain": [
       "KMeans(algorithm='auto', copy_x=True, init='k-means++', max_iter=50,\n",
       "       n_clusters=3, n_init=10, n_jobs=None, precompute_distances='auto',\n",
       "       random_state=None, tol=0.0001, verbose=0)"
      ]
     },
     "execution_count": 26,
     "metadata": {},
     "output_type": "execute_result"
    }
   ],
   "source": [
    "# Final model with k=3\n",
    "kmeans = KMeans(n_clusters=3, max_iter=50)\n",
    "kmeans.fit(rfm_df_scaled)"
   ]
  },
  {
   "cell_type": "code",
   "execution_count": 27,
   "metadata": {},
   "outputs": [
    {
     "data": {
      "text/plain": [
       "array([2, 0, 1, ..., 2, 1, 1], dtype=int32)"
      ]
     },
     "execution_count": 27,
     "metadata": {},
     "output_type": "execute_result"
    }
   ],
   "source": [
    " kmeans.labels_"
   ]
  },
  {
   "cell_type": "code",
   "execution_count": 28,
   "metadata": {},
   "outputs": [
    {
     "data": {
      "text/html": [
       "<div>\n",
       "<style scoped>\n",
       "    .dataframe tbody tr th:only-of-type {\n",
       "        vertical-align: middle;\n",
       "    }\n",
       "\n",
       "    .dataframe tbody tr th {\n",
       "        vertical-align: top;\n",
       "    }\n",
       "\n",
       "    .dataframe thead th {\n",
       "        text-align: right;\n",
       "    }\n",
       "</style>\n",
       "<table border=\"1\" class=\"dataframe\">\n",
       "  <thead>\n",
       "    <tr style=\"text-align: right;\">\n",
       "      <th></th>\n",
       "      <th>CustomerID</th>\n",
       "      <th>Amount</th>\n",
       "      <th>Frequency</th>\n",
       "      <th>Recency</th>\n",
       "      <th>Cluster_Id</th>\n",
       "    </tr>\n",
       "  </thead>\n",
       "  <tbody>\n",
       "    <tr>\n",
       "      <th>0</th>\n",
       "      <td>12346.0</td>\n",
       "      <td>0.00</td>\n",
       "      <td>2</td>\n",
       "      <td>325</td>\n",
       "      <td>2</td>\n",
       "    </tr>\n",
       "    <tr>\n",
       "      <th>1</th>\n",
       "      <td>12347.0</td>\n",
       "      <td>4310.00</td>\n",
       "      <td>182</td>\n",
       "      <td>1</td>\n",
       "      <td>0</td>\n",
       "    </tr>\n",
       "    <tr>\n",
       "      <th>2</th>\n",
       "      <td>12348.0</td>\n",
       "      <td>1797.24</td>\n",
       "      <td>31</td>\n",
       "      <td>74</td>\n",
       "      <td>1</td>\n",
       "    </tr>\n",
       "    <tr>\n",
       "      <th>3</th>\n",
       "      <td>12349.0</td>\n",
       "      <td>1757.55</td>\n",
       "      <td>73</td>\n",
       "      <td>18</td>\n",
       "      <td>1</td>\n",
       "    </tr>\n",
       "    <tr>\n",
       "      <th>4</th>\n",
       "      <td>12350.0</td>\n",
       "      <td>334.40</td>\n",
       "      <td>17</td>\n",
       "      <td>309</td>\n",
       "      <td>2</td>\n",
       "    </tr>\n",
       "  </tbody>\n",
       "</table>\n",
       "</div>"
      ],
      "text/plain": [
       "  CustomerID   Amount  Frequency  Recency  Cluster_Id\n",
       "0    12346.0     0.00          2      325           2\n",
       "1    12347.0  4310.00        182        1           0\n",
       "2    12348.0  1797.24         31       74           1\n",
       "3    12349.0  1757.55         73       18           1\n",
       "4    12350.0   334.40         17      309           2"
      ]
     },
     "execution_count": 28,
     "metadata": {},
     "output_type": "execute_result"
    }
   ],
   "source": [
    "# assign the label\n",
    "rfm['Cluster_Id'] = kmeans.labels_\n",
    "rfm.head()"
   ]
  },
  {
   "cell_type": "markdown",
   "metadata": {},
   "source": [
    "<a id=\"5\"></a> <br>\n",
    "## Step 5 : Final Analysis"
   ]
  },
  {
   "cell_type": "markdown",
   "metadata": {},
   "source": [
    "### Inference:\n",
    "K-Means Clustering with 3 Cluster Ids\n",
    "- Customers with Cluster Id 1 are the customers with high amount of transactions as compared to other customers.\n",
    "- Customers with Cluster Id 1 are frequent buyers.\n",
    "- Customers with Cluster Id 2 are not recent buyers and hence least of importance from business point of view."
   ]
  },
  {
   "cell_type": "markdown",
   "metadata": {},
   "source": [
    "Hierarchical Clustering with 3 Cluster Labels\n",
    "- Customers with Cluster_Labels 2 are the customers with high amount of transactions as compared to other customers.\n",
    "- Customers with Cluster_Labels 2 are frequent buyers.\n",
    "- Customers with Cluster_Labels 0 are not recent buyers and hence least of importance from business point of view."
   ]
  }
 ],
 "metadata": {
  "kernelspec": {
   "display_name": "Python 3",
   "language": "python",
   "name": "python3"
  },
  "language_info": {
   "codemirror_mode": {
    "name": "ipython",
    "version": 3
   },
   "file_extension": ".py",
   "mimetype": "text/x-python",
   "name": "python",
   "nbconvert_exporter": "python",
   "pygments_lexer": "ipython3",
   "version": "3.8.8"
  }
 },
 "nbformat": 4,
 "nbformat_minor": 1
}
