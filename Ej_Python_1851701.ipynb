{
 "cells": [
  {
   "cell_type": "markdown",
   "id": "f31d0c9e",
   "metadata": {},
   "source": [
    "# Ejercicios basicos de Python"
   ]
  },
  {
   "cell_type": "markdown",
   "id": "c13e4902",
   "metadata": {},
   "source": [
    "## Ejercicio 1  \n",
    "Realiza una variable con tu matricula y realiza una secuencia de imprimir con tu nombre y tu matricula concatenados"
   ]
  },
  {
   "cell_type": "code",
   "execution_count": 1,
   "id": "b32da1b4",
   "metadata": {},
   "outputs": [
    {
     "name": "stdout",
     "output_type": "stream",
     "text": [
      "Ingrese su matrícula: 1851701\n",
      "Ingrese su nombre: José Eduardo Navarrete Rosales\n",
      "1851701-José Eduardo Navarrete Rosales\n"
     ]
    }
   ],
   "source": [
    "mat=int( input('Ingrese su matrícula: ') )\n",
    "nom=str( input('Ingrese su nombre: ') )\n",
    "\n",
    "print('{}-{}'.format(mat,nom))"
   ]
  },
  {
   "cell_type": "markdown",
   "id": "124ce3ce",
   "metadata": {},
   "source": [
    "## Ejercicio 2  \n",
    "Pidiendo el input del usuario pide dos números y crea una pequeña calculadora con los operadores básicos de suma, resta, multiplicación, división, y exponente.  \n",
    "  \n",
    "Utilizando el loop de while"
   ]
  },
  {
   "cell_type": "code",
   "execution_count": 2,
   "id": "2506ae79",
   "metadata": {},
   "outputs": [
    {
     "name": "stdout",
     "output_type": "stream",
     "text": [
      "Ingresa el primer numero: 5\n",
      "Ingresa el segundo numero: 3\n",
      "\n",
      "¿Que operación desea realizar?\n",
      "Las operaciones disponibles son suma(+), resta(-), multiplicación(*), división(/) y potencia(^): %\n",
      "\n",
      "ERROR!!!\n",
      "Escriba el simbolo de la operacion que desea realizar\n",
      "\n",
      "¿Que operación desea realizar?\n",
      "Las operaciones disponibles son suma(+), resta(-), multiplicación(*), división(/) y potencia(^): ^\n",
      "5 ^ 3 = 125\n"
     ]
    }
   ],
   "source": [
    "num1=int( input('Ingresa el primer numero: ') )\n",
    "num2=int( input('Ingresa el segundo numero: ') )\n",
    "\n",
    "opr=str( input('\\n¿Que operación desea realizar?\\nLas operaciones disponibles son suma(+), resta(-), multiplicación(*), división(/) y potencia(^): ') )\n",
    "while opr!='+' and opr!='-' and opr!='*' and opr!='/' and opr!='^':\n",
    "    print('\\nERROR!!!\\nEscriba el simbolo de la operacion que desea realizar')\n",
    "    opr=str( input('\\n¿Que operación desea realizar?\\nLas operaciones disponibles son suma(+), resta(-), multiplicación(*), división(/) y potencia(^): ') )\n",
    "    \n",
    "if opr=='+':\n",
    "    res=num1+num2\n",
    "elif opr=='-':\n",
    "    res=num1-num2\n",
    "elif opr=='*':\n",
    "    res=num1*num2\n",
    "elif opr=='/':\n",
    "    res=num1/num2\n",
    "elif opr=='^':\n",
    "    res=num1**num2\n",
    "\n",
    "print('{} {} {} = {}'.format(num1,opr,num2,res))"
   ]
  },
  {
   "cell_type": "markdown",
   "id": "ffbddb76",
   "metadata": {},
   "source": [
    "## Ejercicio 3  \n",
    "Con loop while o for, realiza una lista de 10 numeros multiplos de 3, y después realiza una función de loop que sume todos los números dentro del arreglo."
   ]
  },
  {
   "cell_type": "code",
   "execution_count": 3,
   "id": "662c1196",
   "metadata": {},
   "outputs": [
    {
     "name": "stdout",
     "output_type": "stream",
     "text": [
      "[3, 6, 9, 12, 15, 18, 21, 24, 27, 30]\n",
      "La suma de los numeros que contiene la lista es de: 165\n"
     ]
    }
   ],
   "source": [
    "mulde3=[3]\n",
    "for i in range(1,10):\n",
    "    mulde3.insert(i, mulde3[i-1]+3)\n",
    "print(mulde3)\n",
    "\n",
    "suma=0\n",
    "for i in range(len(mulde3)):\n",
    "    suma+=mulde3[i]\n",
    "\n",
    "print('La suma de los numeros que contiene la lista es de: {}'.format(suma))"
   ]
  },
  {
   "cell_type": "markdown",
   "id": "fe509ae9",
   "metadata": {},
   "source": [
    "## Ejercicio 4  \n",
    "* Con una función de if else, revisar si un número es par o es impar.  \n",
    "* Con una función de if else, revisar si un número es primo o no."
   ]
  },
  {
   "cell_type": "code",
   "execution_count": 4,
   "id": "e00437a3",
   "metadata": {},
   "outputs": [
    {
     "name": "stdout",
     "output_type": "stream",
     "text": [
      "Ingrese un numero entero: 37\n",
      "El numero 37 es impar\n",
      "El numero 37 es primo\n"
     ]
    }
   ],
   "source": [
    "num=int(input('Ingrese un numero entero: '))\n",
    "res=num%2\n",
    "if res==0:\n",
    "    print('El numero {} es par'.format(num))\n",
    "elif res!=0:\n",
    "    print('El numero {} es impar'.format(num))\n",
    "\n",
    "m=2\n",
    "band='V'\n",
    "while band=='V' and m<num:\n",
    "    if num%m==0:\n",
    "        band='F'\n",
    "    else:\n",
    "        m+=1\n",
    "if band=='V':\n",
    "    print('El numero {} es primo'.format(num))\n",
    "elif band=='F':\n",
    "    print('El numero {} no es primo'.format(num))"
   ]
  },
  {
   "cell_type": "markdown",
   "id": "82708cd6",
   "metadata": {},
   "source": [
    "## Ejercicio 5  \n",
    "Utilizando diferentes clases en python, crea una calculadora con los operadores básicos de suma, resta, multiplicación, división, y exponente."
   ]
  },
  {
   "cell_type": "code",
   "execution_count": 5,
   "id": "b8699c88",
   "metadata": {},
   "outputs": [],
   "source": [
    "from tkinter import*"
   ]
  },
  {
   "cell_type": "code",
   "execution_count": 6,
   "id": "a286591e",
   "metadata": {},
   "outputs": [],
   "source": [
    "boton = \"\"\n",
    "\n",
    "\n",
    "\n",
    "\n",
    "\n",
    "def digito(num):\n",
    "\n",
    "\n",
    "\n",
    "    global boton\n",
    "\n",
    "    boton = boton + str(num)\n",
    "\n",
    "    calculo.set(boton)\n",
    "\n",
    "\n",
    "\n",
    "\n",
    "\n",
    "def igual():\n",
    "\n",
    "\n",
    "\n",
    "    try:\n",
    "\n",
    "        global boton\n",
    "\n",
    "        total = str(eval(boton))\n",
    "\n",
    "        calculo.set(total)\n",
    "\n",
    "        boton = \"\"\n",
    "\n",
    "\n",
    "\n",
    "    except:\n",
    "\n",
    "\n",
    "\n",
    "        calculo.set(\" error \")\n",
    "\n",
    "\n",
    "\n",
    "def limpiar():\n",
    "\n",
    "    calculo.set(\"\")\n",
    "\n",
    "\n",
    "\n",
    "\n",
    "\n",
    "if __name__ == \"__main__\":\n",
    "\n",
    "\n",
    "\n",
    "    ventana = Tk()\n",
    "\n",
    "\n",
    "\n",
    "\n",
    "\n",
    "    ventana.configure(background=\"light blue\")\n",
    "\n",
    "    ventana.title(\"Calculadora basica\")\n",
    "\n",
    "    ventana.geometry(\"195x224\")\n",
    "\n",
    "\n",
    "\n",
    "\n",
    "\n",
    "    calculo = StringVar()\n",
    "\n",
    "    datos = Entry(ventana, textvariable=calculo)\n",
    "\n",
    "    datos.grid(columnspan=10, ipadx=50)\n",
    "\n",
    "\n",
    "\n",
    "\n",
    "\n",
    "\n",
    "\n",
    "\n",
    "\n",
    "    boton1 = Button(ventana, text=' 1 ', fg='black', bg='white',\n",
    "\n",
    "                     command=lambda: digito(1), height=2, width=5)\n",
    "\n",
    "    boton1.grid(row=2, column=0)\n",
    "\n",
    "\n",
    "\n",
    "    boton2 = Button(ventana, text=' 2 ', fg='black', bg='white',\n",
    "\n",
    "                     command=lambda: digito(2), height=2, width=5)\n",
    "\n",
    "    boton2.grid(row=2, column=1)\n",
    "\n",
    "\n",
    "\n",
    "    boton3 = Button(ventana, text=' 3 ', fg='black', bg='white',\n",
    "\n",
    "                     command=lambda: digito(3), height=2, width=5)\n",
    "\n",
    "    boton3.grid(row=2, column=2)\n",
    "\n",
    "\n",
    "\n",
    "    boton4 = Button(ventana, text=' 4 ', fg='black', bg='white',\n",
    "\n",
    "                     command=lambda: digito(4), height=2, width=5)\n",
    "\n",
    "    boton4.grid(row=3, column=0)\n",
    "\n",
    "\n",
    "\n",
    "    boton5 = Button(ventana, text=' 5 ', fg='black', bg='white',\n",
    "\n",
    "                     command=lambda: digito(5), height=2, width=5)\n",
    "\n",
    "    boton5.grid(row=3, column=1)\n",
    "\n",
    "\n",
    "\n",
    "    boton6 = Button(ventana, text=' 6 ', fg='black', bg='white',\n",
    "\n",
    "                     command=lambda: digito(6), height=2, width=5)\n",
    "\n",
    "    boton6.grid(row=3, column=2)\n",
    "\n",
    "\n",
    "\n",
    "    boton7 = Button(ventana, text=' 7 ', fg='black', bg='white',\n",
    "\n",
    "                     command=lambda: digito(7), height=2, width=5)\n",
    "\n",
    "    boton7.grid(row=4, column=0)\n",
    "\n",
    "\n",
    "\n",
    "    boton8 = Button(ventana, text=' 8 ', fg='black', bg='white',\n",
    "\n",
    "                     command=lambda: digito(8), height=2, width=5)\n",
    "\n",
    "    boton8.grid(row=4, column=1)\n",
    "\n",
    "\n",
    "\n",
    "    boton9 = Button(ventana, text=' 9 ', fg='black', bg='white',\n",
    "\n",
    "                     command=lambda: digito(9), height=2, width=5)\n",
    "\n",
    "    boton9.grid(row=4, column=2)\n",
    "\n",
    "\n",
    "\n",
    "    boton0 = Button(ventana, text=' 0 ', fg='black', bg='white',\n",
    "\n",
    "                     command=lambda: digito(0), height=2, width=5)\n",
    "\n",
    "    boton0.grid(row=5, column=1)\n",
    "\n",
    "\n",
    "\n",
    "    suma = Button(ventana, text=' + ', fg='black', bg='white',\n",
    "\n",
    "                  command=lambda: digito(\"+\"), height=2, width=5)\n",
    "\n",
    "    suma.grid(row=2, column=3)\n",
    "\n",
    "\n",
    "\n",
    "    resta = Button(ventana, text=' - ', fg='black', bg='white',\n",
    "\n",
    "                   command=lambda: digito(\"-\"), height=2, width=5)\n",
    "\n",
    "    resta.grid(row=3, column=3)\n",
    "\n",
    "\n",
    "\n",
    "    multiplica = Button(ventana, text=' * ', fg='black', bg='white',\n",
    "\n",
    "                      command=lambda: digito(\"*\"), height=2, width=5)\n",
    "\n",
    "    multiplica.grid(row=4, column=3)\n",
    "\n",
    "\n",
    "\n",
    "    divide = Button(ventana, text=' / ', fg='black', bg='white',\n",
    "\n",
    "                    command=lambda: digito(\"/\"), height=2, width=5)\n",
    "\n",
    "    divide.grid(row=5, column=3)\n",
    "\n",
    "\n",
    "\n",
    "    resultado = Button(ventana, text=' = ', fg='black', bg='white',\n",
    "\n",
    "                   command=igual, height=2, width=5)\n",
    "\n",
    "    resultado.grid(row=5, column=2)\n",
    "\n",
    "\n",
    "\n",
    "    limpiar = Button(ventana, text='Limpiar', fg='black', bg='white',\n",
    "\n",
    "                   command=limpiar, height=2, width=5)\n",
    "\n",
    "    limpiar.grid(row=6, column='0')\n",
    "\n",
    "    \n",
    "    \n",
    "    punto = Button(ventana, text='.', fg='black', bg='white',\n",
    "\n",
    "                   command=lambda: digito(\".\"), height=2, width=5)\n",
    "\n",
    "    punto.grid(row=5, column=0)\n",
    "    \n",
    "    \n",
    "\n",
    "    parentesis1 = Button(ventana, text='(', fg='black', bg='white',\n",
    "\n",
    "                   command=lambda: digito(\"(\"), height=2, width=5)\n",
    "\n",
    "    parentesis1 .grid(row=6, column=1)\n",
    "\n",
    "\n",
    "\n",
    "    parentesis2 = Button(ventana, text=')', fg='black', bg='white',\n",
    "\n",
    "                   command=lambda: digito(\")\"), height=2, width=5)\n",
    "\n",
    "    parentesis2 .grid(row=6, column=2)\n",
    "    \n",
    "    \n",
    "    \n",
    "    exponente = Button(ventana, text='^', fg='black', bg='white',\n",
    "                      \n",
    "                    command=lambda: digito(\"**\"), height=2, width=5)\n",
    "    \n",
    "    exponente.grid(row=6, column=3)\n",
    "    \n",
    "    \n",
    "\n",
    "    ventana.mainloop()"
   ]
  },
  {
   "cell_type": "markdown",
   "id": "a0c98ddc",
   "metadata": {},
   "source": [
    "Para realizar el último ejercicio se tomó la siguiente base como ejemplo: \n",
    "[base ejemplo](https://www.codigazo.com/python/como-hacer-calculadora-python-ejemplo)  \n",
    "  \n",
    "A continuación muestro una imagen de la ventana que se genera:  \n",
    "<img src='Captura de pantalla calculadora basica.png' />"
   ]
  },
  {
   "cell_type": "markdown",
   "id": "6570dbd5",
   "metadata": {},
   "source": [
    "# Ejercicios con estructuras básicas de python.  \n",
    "  \n",
    "## Tuplas"
   ]
  },
  {
   "cell_type": "markdown",
   "id": "1e988f22",
   "metadata": {},
   "source": [
    "* **Crear una variable flotante, integer, boleana y compleja e imprimir el tipo de variable que es.**"
   ]
  },
  {
   "cell_type": "code",
   "execution_count": 7,
   "id": "03be5f45",
   "metadata": {},
   "outputs": [
    {
     "name": "stdout",
     "output_type": "stream",
     "text": [
      "La variable var_float es del tipo: <class 'float'>\n",
      "La variable var_int es del tipo: <class 'int'>\n",
      "La variable var_bool es del tipo: <class 'bool'>\n",
      "La variable var_complex es del tipo: <class 'complex'>\n"
     ]
    }
   ],
   "source": [
    "var_float=16.95\n",
    "var_int=5\n",
    "var_bool=True\n",
    "var_complex=25j\n",
    "\n",
    "print('La variable var_float es del tipo: {}'.format(type(var_float)))\n",
    "print('La variable var_int es del tipo: {}'.format(type(var_int)))\n",
    "print('La variable var_bool es del tipo: {}'.format(type(var_bool)))\n",
    "print('La variable var_complex es del tipo: {}'.format(type(var_complex)))"
   ]
  },
  {
   "cell_type": "markdown",
   "id": "09945684",
   "metadata": {},
   "source": [
    "* **Crear una tupla con valores enteros imprimir el primer y ultimo valor.**"
   ]
  },
  {
   "cell_type": "code",
   "execution_count": 8,
   "id": "e2adc846",
   "metadata": {},
   "outputs": [
    {
     "name": "stdout",
     "output_type": "stream",
     "text": [
      "El primer valor de la tupla es 25 y el ultimo es 57\n"
     ]
    }
   ],
   "source": [
    "var_tuple=(25,3,45,67,8,98,76,4,5,78,9,3,57)\n",
    "print('El primer valor de la tupla es {} y el ultimo es {}'.format(var_tuple[0],var_tuple[-1]))"
   ]
  },
  {
   "cell_type": "markdown",
   "id": "1cadb958",
   "metadata": {},
   "source": [
    "* **Añadir 3 valores de string a la tupla.**"
   ]
  },
  {
   "cell_type": "code",
   "execution_count": 9,
   "id": "56596a8d",
   "metadata": {},
   "outputs": [
    {
     "data": {
      "text/plain": [
       "(25, 3, 45, 67, 8, 98, 76, 4, 5, 78, 9, 3, 57, 'Hola', 'Jose', 'Eduardo')"
      ]
     },
     "execution_count": 9,
     "metadata": {},
     "output_type": "execute_result"
    }
   ],
   "source": [
    "newvar_tuple=var_tuple.__add__(('Hola','Jose','Eduardo'))\n",
    "newvar_tuple"
   ]
  },
  {
   "cell_type": "markdown",
   "id": "3d9c4d69",
   "metadata": {},
   "source": [
    "* **Verificar si una variable existe dentro de la tupla.**"
   ]
  },
  {
   "cell_type": "code",
   "execution_count": 10,
   "id": "8d25c279",
   "metadata": {},
   "outputs": [
    {
     "name": "stdout",
     "output_type": "stream",
     "text": [
      "Ingrese el elemento que desea buscar: 78\n",
      "El elemento 78 se encuentra en la tupla\n"
     ]
    }
   ],
   "source": [
    "busq=int(input('Ingrese el elemento que desea buscar: '))\n",
    "\n",
    "aux=busq in var_tuple\n",
    "if aux==True:\n",
    "    print('El elemento {} se encuentra en la tupla'.format(busq))\n",
    "else:\n",
    "    print('El elemento {} no se encuentra en la tupla'.format(busq))"
   ]
  },
  {
   "cell_type": "markdown",
   "id": "77ac635d",
   "metadata": {},
   "source": [
    "## Listas"
   ]
  },
  {
   "cell_type": "markdown",
   "id": "e3a1d9ec",
   "metadata": {},
   "source": [
    "* **Crear una lista con 40 elementos aleatorios enteros.**"
   ]
  },
  {
   "cell_type": "code",
   "execution_count": 11,
   "id": "e75ed965",
   "metadata": {},
   "outputs": [],
   "source": [
    "from random import sample"
   ]
  },
  {
   "cell_type": "code",
   "execution_count": 12,
   "id": "2d03d801",
   "metadata": {},
   "outputs": [
    {
     "name": "stdout",
     "output_type": "stream",
     "text": [
      "[69, 80, 95, 26, 34, 28, 40, 83, 96, 52, 35, 70, 65, 68, 2, 66, 41, 82, 22, 77, 7, 86, 75, 15, 11, 54, 23, 94, 0, 79, 85, 5, 3, 50, 98, 6, 53, 33, 24, 31]\n"
     ]
    }
   ],
   "source": [
    "L_rand=sample(range(0,100),40)\n",
    "print(L_rand)"
   ]
  },
  {
   "cell_type": "markdown",
   "id": "22641713",
   "metadata": {},
   "source": [
    "* **Con una funcion (def) crear dos listas nuevas a partir de la lista creada por numeros aleatorios, en la cual en una esten los elementos pares, y en la otra los elementos impares.**"
   ]
  },
  {
   "cell_type": "code",
   "execution_count": 13,
   "id": "e926c094",
   "metadata": {},
   "outputs": [],
   "source": [
    "def par_impar(lista):\n",
    "    L_par=[]\n",
    "    L_impar=[]\n",
    "\n",
    "    for i in range(0,len(lista)):\n",
    "        residuo=L_rand[i]%2\n",
    "        if residuo==0:\n",
    "            L_par.insert(i,L_rand[i])\n",
    "        else:\n",
    "            L_impar.insert(i,L_rand[i])\n",
    "    \n",
    "    return L_par,L_impar"
   ]
  },
  {
   "cell_type": "code",
   "execution_count": 18,
   "id": "c841b514",
   "metadata": {},
   "outputs": [
    {
     "name": "stdout",
     "output_type": "stream",
     "text": [
      "[80, 26, 34, 28, 40, 96, 52, 70, 68, 2, 66, 82, 22, 86, 54, 94, 0, 50, 98, 6, 24]\n",
      "[69, 95, 83, 35, 65, 41, 77, 7, 75, 15, 11, 23, 79, 85, 5, 3, 53, 33, 31]\n"
     ]
    }
   ],
   "source": [
    "a,b=par_impar(L_rand)\n",
    "print(a)\n",
    "print(b)"
   ]
  },
  {
   "cell_type": "markdown",
   "id": "0dc03c43",
   "metadata": {},
   "source": [
    "* **Crear dos variables con la longitud de ambas listas nuevas e imprimir las variables.**"
   ]
  },
  {
   "cell_type": "code",
   "execution_count": 20,
   "id": "aa80586f",
   "metadata": {},
   "outputs": [
    {
     "name": "stdout",
     "output_type": "stream",
     "text": [
      "La longitud de la lista de los pares es: 21\n",
      "La longitud de la lista de los impares es: 19\n"
     ]
    }
   ],
   "source": [
    "len_a=len(a)\n",
    "len_b=len(b)\n",
    "print('La longitud de la lista de los pares es: {}'.format(len_a))\n",
    "print('La longitud de la lista de los impares es: {}'.format(len_b))"
   ]
  },
  {
   "cell_type": "markdown",
   "id": "df3c2b5b",
   "metadata": {},
   "source": [
    "* **Ordenar los elementos de la lista par de mayor a menor, y los de la lista impar de menor a mayor.**"
   ]
  },
  {
   "cell_type": "code",
   "execution_count": 21,
   "id": "4aef45f9",
   "metadata": {},
   "outputs": [
    {
     "name": "stdout",
     "output_type": "stream",
     "text": [
      "[98, 96, 94, 86, 82, 80, 70, 68, 66, 54, 52, 50, 40, 34, 28, 26, 24, 22, 6, 2, 0]\n",
      "[3, 5, 7, 11, 15, 23, 31, 33, 35, 41, 53, 65, 69, 75, 77, 79, 83, 85, 95]\n"
     ]
    }
   ],
   "source": [
    "print(sorted(a,reverse=True))\n",
    "print(sorted(b))"
   ]
  },
  {
   "cell_type": "markdown",
   "id": "64d01a41",
   "metadata": {},
   "source": [
    "* **Utilizar al menos cuatro de las funciones de listas en python en la lista original de 40 elementos.**"
   ]
  },
  {
   "cell_type": "code",
   "execution_count": 26,
   "id": "b874ad7c",
   "metadata": {},
   "outputs": [
    {
     "name": "stdout",
     "output_type": "stream",
     "text": [
      "El elemento 66 se encuentra en la lista\n",
      "------------------------------------------------\n",
      "El número 66 se encuentra en la posición 15.(tomar en cuenta que las posiciones inician en 0)\n",
      "------------------------------------------------\n",
      "[69, 80, 95, 26, 34, 28, 40, 83, 96, 52, 35, 70, 65, 68, 2, 66, 41, 82, 22, 77, 7, 86, 75, 15, 11, 54, 23, 94, 0, 79, 85, 5, 3, 50, 98, 6, 53, 33, 24, 31]\n",
      "[69, 80, 95, 26, 34, 28, 40, 83, 96, 52, 35, 70, 65, 68, 2, 66, 41, 82, 22, 77, 7, 86, 75, 15, 11, 54, 23, 94, 0, 79, 85, 5, 3, 50, 98, 6, 53, 33, 24, 31]\n",
      "------------------------------------------------\n",
      "[69, 80, 95, 26, 34, 28, 40, 83, 96, 52, 35, 70, 65, 68, 2, 66, 41, 82, 22, 77, 7, 86, 75, 15, 11, 54, 23, 94, 0, 79, 85, 5, 3, 50, 98, 6, 53, 33, 24, 31]\n",
      "[69, 80, 95, 26, 34, 28, 40, 83, 96, 52, 35, 70, 65, 68, 2, 66, 41, 82, 22, 77, 7, 86, 75, 15, 11, 54, 23, 94, 0, 79, 85, 5, 3, 50, 98, 6, 53, 33, 24, 31]\n",
      "[69, 80, 95, 26, 34, 28, 40, 83, 96, 52, 35, 70, 65, 68, 2, 66, 41, 82, 22, 77, 7, 86, 75, 15, 11, 54, 23, 94, 0, 79, 85, 5, 3, 50, 98, 6, 53, 33, 24, 31]\n",
      "[69, 80, 95, 26, 34, 28, 40, 83, 96, 52, 35, 70, 65, 68, 2, 66, 41, 82, 22, 77, 7, 86, 75, 15, 11, 54, 23, 94, 0, 79, 85, 5, 3, 50, 98, 6, 53, 33, 24, 31, 'Copia']\n"
     ]
    }
   ],
   "source": [
    "# Buscar si el elemento 66 se encuentra en la lista\n",
    "aux=(66 in L_rand)\n",
    "if aux==True:\n",
    "    print('El elemento 66 se encuentra en la lista')\n",
    "else:\n",
    "    print('El elemento 66 no se encuentra en la lista')\n",
    "\n",
    "print('------------------------------------------------')\n",
    "# Encontrar la posición del elemento 66 dentro de la lista\n",
    "pos=L_rand.index(66,0)\n",
    "print('El número 66 se encuentra en la posición {}.(tomar en cuenta que las posiciones inician en 0)'.format(pos))\n",
    "\n",
    "print('------------------------------------------------')\n",
    "# Crerar una copia simple de la lista (si se modifica una, se modifica la otra)\n",
    "cs=L_rand\n",
    "print(L_rand)\n",
    "print(cs)\n",
    "\n",
    "print('------------------------------------------------')\n",
    "# Crear una copia independiente de la lista\n",
    "ci=L_rand.copy()\n",
    "print(L_rand)\n",
    "print(ci)\n",
    "ci.append('Copia')\n",
    "print(L_rand)\n",
    "print(ci)"
   ]
  },
  {
   "cell_type": "markdown",
   "id": "219b489b",
   "metadata": {},
   "source": [
    "## Diccionarios"
   ]
  },
  {
   "cell_type": "markdown",
   "id": "f6294b2b",
   "metadata": {},
   "source": [
    "* **Crear un diccionario de 6 personas que conozcas con su primer nombre y su edad.**"
   ]
  },
  {
   "cell_type": "code",
   "execution_count": 1,
   "id": "893866d6",
   "metadata": {},
   "outputs": [
    {
     "data": {
      "text/plain": [
       "{'Nombre': ['Octavio', 'Jose', 'Sebastian', 'Gerardo', 'Valeria', 'Fatima'],\n",
       " 'Edad': [50, 20, 15, 25, 19, 32]}"
      ]
     },
     "execution_count": 1,
     "metadata": {},
     "output_type": "execute_result"
    }
   ],
   "source": [
    "dic1={'Nombre': ['Octavio','Jose','Sebastian','Gerardo','Valeria','Fatima'],\n",
    "      'Edad': [50,20,15,25,19,32]}\n",
    "dic1"
   ]
  },
  {
   "cell_type": "markdown",
   "id": "02b505b1",
   "metadata": {},
   "source": [
    "* **Crear una lista con los valores de la edad y reacomodar la lista de menor a mayor valor.**"
   ]
  },
  {
   "cell_type": "code",
   "execution_count": 2,
   "id": "ab0fc1c1",
   "metadata": {},
   "outputs": [
    {
     "name": "stdout",
     "output_type": "stream",
     "text": [
      "[15, 19, 20, 25, 32, 50]\n"
     ]
    }
   ],
   "source": [
    "l_edad=dic1['Edad']\n",
    "print(sorted(l_edad))"
   ]
  },
  {
   "cell_type": "markdown",
   "id": "d8ba8c6f",
   "metadata": {},
   "source": [
    "* **Usando el diccionario y un loop, imprimir solo los nombres.**"
   ]
  },
  {
   "cell_type": "code",
   "execution_count": 3,
   "id": "2a0f39a6",
   "metadata": {},
   "outputs": [
    {
     "name": "stdout",
     "output_type": "stream",
     "text": [
      "Bienvenido Octavio\n",
      "Bienvenido Jose\n",
      "Bienvenido Sebastian\n",
      "Bienvenido Gerardo\n",
      "Bienvenido Valeria\n",
      "Bienvenido Fatima\n"
     ]
    }
   ],
   "source": [
    "l_nombre=dic1['Nombre']\n",
    "for i in range(0,len(l_nombre)):\n",
    "    print('Bienvenido {}'.format(l_nombre[i]))"
   ]
  },
  {
   "cell_type": "markdown",
   "id": "a2af48cb",
   "metadata": {},
   "source": [
    "* **Añadir dos personas nuevas a tu diccionario, incluyendo edad.**"
   ]
  },
  {
   "cell_type": "code",
   "execution_count": 4,
   "id": "e82cd401",
   "metadata": {},
   "outputs": [
    {
     "name": "stdout",
     "output_type": "stream",
     "text": [
      "Ingrese el nombre que desea agregar: Eduardo\n",
      "Ingrese la edad de la persona: 48\n",
      "Si desea agregar otro elemento pulse 0. De lo contrario pulse 1: 0\n",
      "Ingrese el nombre que desea agregar: Felipe\n",
      "Ingrese la edad de la persona: 67\n",
      "Si desea agregar otro elemento pulse 0. De lo contrario pulse 1: 1\n"
     ]
    }
   ],
   "source": [
    "paso=0\n",
    "while paso==0:\n",
    "    aux_nom=str(input('Ingrese el nombre que desea agregar: '))\n",
    "    dic1['Nombre'].insert(len(dic1['Nombre']),aux_nom)\n",
    "    aux_edad=int(input('Ingrese la edad de la persona: '))\n",
    "    dic1['Edad'].insert(len(dic1['Edad']),aux_edad)\n",
    "    paso=int(input('Si desea agregar otro elemento pulse 0. De lo contrario pulse 1: '))"
   ]
  },
  {
   "cell_type": "code",
   "execution_count": 5,
   "id": "128e6838",
   "metadata": {},
   "outputs": [
    {
     "name": "stdout",
     "output_type": "stream",
     "text": [
      "['Octavio', 'Jose', 'Sebastian', 'Gerardo', 'Valeria', 'Fatima', 'Eduardo', 'Felipe']\n",
      "[50, 20, 15, 25, 19, 32, 48, 67]\n"
     ]
    }
   ],
   "source": [
    "print(dic1['Nombre'])\n",
    "print(dic1['Edad'])"
   ]
  },
  {
   "cell_type": "markdown",
   "id": "3d0aea66",
   "metadata": {},
   "source": [
    "## Sets"
   ]
  },
  {
   "cell_type": "markdown",
   "id": "420acdf6",
   "metadata": {},
   "source": [
    "* **Crea un set con 100 numeros aleatorios enteros del 1 al 25.**"
   ]
  },
  {
   "cell_type": "code",
   "execution_count": 1,
   "id": "0ec662ef",
   "metadata": {},
   "outputs": [],
   "source": [
    "import random"
   ]
  },
  {
   "cell_type": "code",
   "execution_count": 2,
   "id": "a9cedd6c",
   "metadata": {},
   "outputs": [
    {
     "data": {
      "text/plain": [
       "{1,\n",
       " 2,\n",
       " 3,\n",
       " 4,\n",
       " 5,\n",
       " 6,\n",
       " 7,\n",
       " 8,\n",
       " 9,\n",
       " 10,\n",
       " 11,\n",
       " 12,\n",
       " 13,\n",
       " 14,\n",
       " 15,\n",
       " 16,\n",
       " 17,\n",
       " 18,\n",
       " 19,\n",
       " 20,\n",
       " 21,\n",
       " 22,\n",
       " 23,\n",
       " 24,\n",
       " 25}"
      ]
     },
     "execution_count": 2,
     "metadata": {},
     "output_type": "execute_result"
    }
   ],
   "source": [
    "set1=set()\n",
    "for i in range(100):\n",
    "    set1.add(random.randint(1,25))\n",
    "    \n",
    "set1"
   ]
  },
  {
   "cell_type": "markdown",
   "id": "590b8c38",
   "metadata": {},
   "source": [
    "Como podemos ver, los sets contienen valores unicos. Por lo que solo es posible generar 25 valores con el rango dado."
   ]
  },
  {
   "cell_type": "markdown",
   "id": "522922a3",
   "metadata": {},
   "source": [
    "* **Comprueba la longitud de tu set.**"
   ]
  },
  {
   "cell_type": "code",
   "execution_count": 4,
   "id": "9280d53c",
   "metadata": {},
   "outputs": [
    {
     "name": "stdout",
     "output_type": "stream",
     "text": [
      "<class 'set'>\n"
     ]
    }
   ],
   "source": [
    "print(type(set1))"
   ]
  },
  {
   "cell_type": "code",
   "execution_count": 5,
   "id": "93904269",
   "metadata": {},
   "outputs": [
    {
     "name": "stdout",
     "output_type": "stream",
     "text": [
      "La longitud del set1 es de: 25\n"
     ]
    }
   ],
   "source": [
    "print('La longitud del set1 es de: {}'.format(len(set1)))"
   ]
  },
  {
   "cell_type": "markdown",
   "id": "401af6df",
   "metadata": {},
   "source": [
    "* **Crea una lista de 5 numeros aleatorios del 1 al 10 y comprueba si cada valor aparece en el set inicial.**"
   ]
  },
  {
   "cell_type": "code",
   "execution_count": 6,
   "id": "28bedf3c",
   "metadata": {},
   "outputs": [
    {
     "data": {
      "text/plain": [
       "[2, 8, 1, 4, 5]"
      ]
     },
     "execution_count": 6,
     "metadata": {},
     "output_type": "execute_result"
    }
   ],
   "source": [
    "lista_rand=list()\n",
    "for i in range(5):\n",
    "    lista_rand.insert(i,random.randint(1,10))\n",
    "    \n",
    "lista_rand"
   ]
  },
  {
   "cell_type": "code",
   "execution_count": 9,
   "id": "3527258d",
   "metadata": {},
   "outputs": [
    {
     "name": "stdout",
     "output_type": "stream",
     "text": [
      "El elemento 2 se encuentra en el set inicial\n",
      "El elemento 8 se encuentra en el set inicial\n",
      "El elemento 1 se encuentra en el set inicial\n",
      "El elemento 4 se encuentra en el set inicial\n",
      "El elemento 5 se encuentra en el set inicial\n"
     ]
    }
   ],
   "source": [
    "for i in range(0,len(lista_rand)):\n",
    "    valor=lista_rand[i] in set1\n",
    "    if valor==True:\n",
    "        print('El elemento {} se encuentra en el set inicial'.format(lista_rand[i]))\n",
    "    else:\n",
    "        print('El elemento {} no se encuentra en el set inicial'.format(lista_rand[i]))"
   ]
  }
 ],
 "metadata": {
  "kernelspec": {
   "display_name": "Python 3",
   "language": "python",
   "name": "python3"
  },
  "language_info": {
   "codemirror_mode": {
    "name": "ipython",
    "version": 3
   },
   "file_extension": ".py",
   "mimetype": "text/x-python",
   "name": "python",
   "nbconvert_exporter": "python",
   "pygments_lexer": "ipython3",
   "version": "3.8.8"
  }
 },
 "nbformat": 4,
 "nbformat_minor": 5
}
